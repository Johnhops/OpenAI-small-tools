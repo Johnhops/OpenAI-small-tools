{
 "cells": [
  {
   "cell_type": "markdown",
   "metadata": {},
   "source": [
    "# Examples of OpenAI Extension"
   ]
  },
  {
   "cell_type": "markdown",
   "metadata": {},
   "source": [
    "## Text to Audio"
   ]
  },
  {
   "cell_type": "code",
   "execution_count": 4,
   "metadata": {},
   "outputs": [],
   "source": [
    "from helpers import OpenAI_Text2audio,play\n",
    "audio_obj = OpenAI_Text2audio(text='Welcome to the real world! It\\'s awful, but you\\'ll like it!',save_as=None)\n",
    "audio_obj.stream_to_file('./Files/example.mp3')\n",
    "play('./Files/example.mp3')"
   ]
  },
  {
   "cell_type": "markdown",
   "metadata": {},
   "source": [
    "## Audio to text"
   ]
  },
  {
   "cell_type": "code",
   "execution_count": 3,
   "metadata": {},
   "outputs": [
    {
     "name": "stdout",
     "output_type": "stream",
     "text": [
      "TU Delft is one of the best universities in the world.\n"
     ]
    }
   ],
   "source": [
    "from helpers import OpenAI_Audio2text\n",
    "text = OpenAI_Audio2text(open_fname=None)\n",
    "print(text)"
   ]
  },
  {
   "cell_type": "markdown",
   "metadata": {},
   "source": [
    "## Text ChatGPT"
   ]
  },
  {
   "cell_type": "code",
   "execution_count": 5,
   "metadata": {},
   "outputs": [
    {
     "name": "stdout",
     "output_type": "stream",
     "text": [
      "Delft Blue, also known as Delftware or Dutch Delft, is a form of blue and white pottery that originated in the city of Delft in the Netherlands in the 17th century. Its production was influenced by the original Chinese blue and white porcelain from the Ming Dynasty, particularly the cobalt blue designs on white porcelain. The Dutch East India Company imported large quantities of Chinese porcelain to the Netherlands, which was highly valued and sought after by wealthy Europeans.\n",
      "\n",
      "However, due to its high cost and delicate nature, there was a growing demand for a more affordable and accessible alternative. Inspired by the Chinese porcelain, Dutch potters in Delft began experimenting with creating their own blue and white pottery around the 16th century. They developed a technique known as faience, which involved coating earthenware with a thin layer of tin glaze and then painting intricate designs with cobalt blue pigments.\n",
      "\n",
      "The Delft Blue ceramics became popular and soon gained recognition throughout Europe. They were often decorated with scenes from everyday life, landscapes, flora, fauna, and intricate patterns. The distinctive blue and white color scheme became synonymous with Delftware, creating a unique style that has endured to this day.\n",
      "\n",
      "While there were several pottery workshops in Delft producing Delft Blue during its heyday in the 17th and 18th centuries, today only a few traditional Delftware factories remain in operation, continuing the centuries-old tradition.\n"
     ]
    }
   ],
   "source": [
    "from helpers import OpenAI_TextChat\n",
    "reply = OpenAI_TextChat(Q='What is the origin of the Delft Blue?')\n",
    "print(reply)"
   ]
  },
  {
   "cell_type": "markdown",
   "metadata": {},
   "source": [
    "## Audio ChatGPT"
   ]
  },
  {
   "cell_type": "code",
   "execution_count": 4,
   "metadata": {},
   "outputs": [
    {
     "name": "stdout",
     "output_type": "stream",
     "text": [
      "What is the origin of the Delft blue?\n",
      "Delft blue, also known as Delftware or Dutch Delft, is a type of pottery that originated in the city of Delft in the Netherlands during the 17th century. The term \"Delft blue\" refers specifically to the blue and white pottery that resembles Chinese porcelain. \n",
      "\n",
      "Delft blue was inspired by the porcelain imported from China during the Dutch Golden Age. In the 17th century, the Dutch East India Company (VOC) brought large quantities of Chinese porcelain to the Netherlands, which was highly coveted and considered a luxury item. However, due to the high cost and limited availability of Chinese porcelain, Delft potters sought to replicate its appearance using local materials and techniques.\n",
      "\n",
      "The potters in Delft began producing earthenware pottery that imitated Chinese porcelain in both form and decoration. They used a tin glaze, which gives the characteristic white appearance, and decorated the pieces with cobalt blue pigment, typically in intricate patterns and motifs. This led to the creation of what is now known as Delft blue pottery.\n",
      "\n",
      "Delft blue became extremely popular in the Netherlands and throughout Europe, as it offered a more affordable alternative to Chinese porcelain. The Delft potters refined their techniques over time, and the pottery developed its own unique style and identity. Delft blue became a symbol of Dutch craftsmanship and played a significant role in the country's artistic heritage.\n",
      "\n",
      "Today, Delft blue pottery is still produced in Delft and is considered a cherished part of Dutch culture and tradition. It is widely collected and admired for its beauty and historical significance.\n"
     ]
    }
   ],
   "source": [
    "from helpers import OpenAI_AudioChat\n",
    "text_reply = OpenAI_AudioChat(duration=8)"
   ]
  }
 ],
 "metadata": {
  "kernelspec": {
   "display_name": "MScProject",
   "language": "python",
   "name": "python3"
  },
  "language_info": {
   "codemirror_mode": {
    "name": "ipython",
    "version": 3
   },
   "file_extension": ".py",
   "mimetype": "text/x-python",
   "name": "python",
   "nbconvert_exporter": "python",
   "pygments_lexer": "ipython3",
   "version": "3.11.0"
  }
 },
 "nbformat": 4,
 "nbformat_minor": 2
}
